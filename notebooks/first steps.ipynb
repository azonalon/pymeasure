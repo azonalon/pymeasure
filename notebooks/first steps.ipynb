{
 "cells": [
  {
   "cell_type": "markdown",
   "metadata": {},
   "source": [
    "# Quick Tour"
   ]
  },
  {
   "cell_type": "code",
   "execution_count": 13,
   "metadata": {
    "collapsed": true
   },
   "outputs": [],
   "source": [
    "import sys\n",
    "sys.path.append('/home/wagner/python/pymeasure/')"
   ]
  },
  {
   "cell_type": "markdown",
   "metadata": {},
   "source": [
    "## The Zen of pymeasure"
   ]
  },
  {
   "cell_type": "markdown",
   "metadata": {},
   "source": [
    "Pymeasure basiert auf vier Prinzipien.\n",
    "\n",
    "    1) Intuition:  Die Programmierung entspricht dem physikalischen Messvorgang.\n",
    "    2) Lesbarkeit: Messskripte sind selbsterklärend.\n",
    "    3) Flexibilität: Messskripte sind einfach an neue Situationen anpassbar.\n",
    "    4) Skalierbarkeit: Messgrößen, Dimesionen und Geschwindikeit können beliebig wachsen.\n",
    "    \n",
    "Das erklärt dann eigentlich auch gleich warum pymeasure in Python geschrieben ist ;) Weitere Gründe sind natürlich das wissenschaftliche Ökosystem, OpenSource und die gute Dokumentation."
   ]
  },
  {
   "cell_type": "markdown",
   "metadata": {},
   "source": [
    "##  Getting started"
   ]
  },
  {
   "cell_type": "markdown",
   "metadata": {},
   "source": [
    "Um pymeasure am einfachsten und schnellsten zu nutzen importieren wir"
   ]
  },
  {
   "cell_type": "code",
   "execution_count": 82,
   "metadata": {
    "collapsed": true
   },
   "outputs": [],
   "source": [
    "from pymeasure import pym"
   ]
  },
  {
   "cell_type": "markdown",
   "metadata": {},
   "source": [
    "Pymeasure ist konzepiert für die interaktive Arbeit auf der IPython Konsole. Um das Arbeiten so einfach und intuitiv zu machen wie möglich sollte der Greedy Completer aktiviert werden. "
   ]
  },
  {
   "cell_type": "code",
   "execution_count": 83,
   "metadata": {
    "collapsed": true
   },
   "outputs": [],
   "source": [
    "%config IPCompleter.greedy = True"
   ]
  },
  {
   "cell_type": "markdown",
   "metadata": {},
   "source": [
    "## Instruments"
   ]
  },
  {
   "cell_type": "markdown",
   "metadata": {},
   "source": [
    "Binden wir unser aller erstes Instrument ein."
   ]
  },
  {
   "cell_type": "code",
   "execution_count": 91,
   "metadata": {
    "collapsed": false
   },
   "outputs": [],
   "source": [
    "foo = pym.instruments.FooInstrument()"
   ]
  },
  {
   "cell_type": "markdown",
   "metadata": {},
   "source": [
    "Das FooInstrument ist rein virtuell, dient zum ausprobieren und zum prototyping."
   ]
  },
  {
   "cell_type": "code",
   "execution_count": 94,
   "metadata": {
    "collapsed": false
   },
   "outputs": [
    {
     "data": {
      "text/plain": [
       "[0.8889293152916455]"
      ]
     },
     "execution_count": 94,
     "metadata": {},
     "output_type": "execute_result"
    }
   ],
   "source": [
    "foo['random']()"
   ]
  },
  {
   "cell_type": "code",
   "execution_count": 99,
   "metadata": {
    "collapsed": false
   },
   "outputs": [
    {
     "data": {
      "text/plain": [
       "[0.12902284432802924]"
      ]
     },
     "execution_count": 99,
     "metadata": {},
     "output_type": "execute_result"
    }
   ],
   "source": [
    "foo[0].read()"
   ]
  },
  {
   "cell_type": "code",
   "execution_count": 24,
   "metadata": {
    "collapsed": false
   },
   "outputs": [
    {
     "ename": "SyntaxError",
     "evalue": "invalid syntax (<ipython-input-24-14552f3f2d6a>, line 1)",
     "output_type": "error",
     "traceback": [
      "\u001b[1;36m  File \u001b[1;32m\"<ipython-input-24-14552f3f2d6a>\"\u001b[1;36m, line \u001b[1;32m1\u001b[0m\n\u001b[1;33m    Zusammenfassung:\u001b[0m\n\u001b[1;37m                   ^\u001b[0m\n\u001b[1;31mSyntaxError\u001b[0m\u001b[1;31m:\u001b[0m invalid syntax\n"
     ]
    }
   ],
   "source": [
    "Zusammenfassung:"
   ]
  },
  {
   "cell_type": "markdown",
   "metadata": {},
   "source": [
    "Dabei fasst pym die wichtigsten Funktionen von pymeasure in einem einzelnen Namensraum zusammen. Es ist daher fast immer ausreichend pym zu importieren. \n",
    "\n",
    "Pymeasure selbst besteht aus einer Reihe unterschiedlicher Module.\n",
    "\n",
    "    instruments: All kind of differnt measurment instruments\n",
    "    sweep: Preforming differnt sweeps with instruments\n",
    "    liveplot: Showing nice 1D and 2D plots\n",
    "    ftools: All kind of filenaming and filecreation functions\n",
    "    h5pym: HDF is the recommended way to store data\n",
    "    case: Contains the base classes and decorators to build channels, instruments and racks."
   ]
  }
 ],
 "metadata": {
  "kernelspec": {
   "display_name": "Python 3",
   "language": "python",
   "name": "python3"
  },
  "language_info": {
   "codemirror_mode": {
    "name": "ipython",
    "version": 3
   },
   "file_extension": ".py",
   "mimetype": "text/x-python",
   "name": "python",
   "nbconvert_exporter": "python",
   "pygments_lexer": "ipython3",
   "version": "3.4.1"
  }
 },
 "nbformat": 4,
 "nbformat_minor": 0
}
