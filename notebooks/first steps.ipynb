{
 "cells": [
  {
   "cell_type": "markdown",
   "metadata": {},
   "source": [
    "# Quick Tour"
   ]
  },
  {
   "cell_type": "code",
   "execution_count": 156,
   "metadata": {
    "collapsed": true
   },
   "outputs": [],
   "source": [
    "import sys\n",
    "sys.path.append('/home/wagner/python/pymeasure/')"
   ]
  },
  {
   "cell_type": "markdown",
   "metadata": {},
   "source": [
    "## Einführung "
   ]
  },
  {
   "cell_type": "markdown",
   "metadata": {},
   "source": [
    "Pymeasure ist ein Modul für Python, dass eine einfache und intuitive Programmierung von Messprogrammen ermöglicht. "
   ]
  },
  {
   "cell_type": "markdown",
   "metadata": {},
   "source": [
    "## The Zen of pymeasure"
   ]
  },
  {
   "cell_type": "markdown",
   "metadata": {},
   "source": [
    "Pymeasure basiert auf den Prinzipien:\n",
    "\n",
    "    1) Intuition:  Die Programmierung entspricht dem physikalischen Messvorgang.\n",
    "    2) Lesbarkeit: Messskripte sind selbsterklärend.\n",
    "    3) Flexibilität: Messskripte sind einfach an neue Situationen anpassbar.\n",
    "    4) Skalierbarkeit: Messgrößen, Dimesionen und Geschwindikeit können beliebig wachsen.\n",
    "    \n",
    "Das erklärt dann eigentlich auch gleich warum pymeasure in Python geschrieben ist. Weitere Gründe sind natürlich die vielen wissenschaftlichen Pakte, OpenSource und die vielen ausführlichen Dokumentationen."
   ]
  },
  {
   "cell_type": "markdown",
   "metadata": {},
   "source": [
    "##  Importing"
   ]
  },
  {
   "cell_type": "markdown",
   "metadata": {},
   "source": [
    "Um pymeasure am einfachsten und schnellsten nutzen zu können, muss von pymeasure lediglich das pym-Modul importiert werden:"
   ]
  },
  {
   "cell_type": "code",
   "execution_count": 157,
   "metadata": {
    "collapsed": true
   },
   "outputs": [],
   "source": [
    "from pymeasure import pym"
   ]
  },
  {
   "cell_type": "markdown",
   "metadata": {},
   "source": [
    "Pymeasure ist konzepiert für die interaktive Arbeit auf der IPython Konsole. Um das Arbeiten so einfach und intuitiv zu machen wie möglich sollte der Greedy Completer aktiviert werden."
   ]
  },
  {
   "cell_type": "code",
   "execution_count": 158,
   "metadata": {
    "collapsed": true
   },
   "outputs": [],
   "source": [
    "%config IPCompleter.greedy = True"
   ]
  },
  {
   "cell_type": "markdown",
   "metadata": {},
   "source": [
    "Danach kann man dann fast alles mit ein paarmal Tab drücken erreichen und machen. Der Greedy Completer lässt sich auch standartmäßig für IPython aktivieren."
   ]
  },
  {
   "cell_type": "markdown",
   "metadata": {},
   "source": [
    "## Instruments"
   ]
  },
  {
   "cell_type": "markdown",
   "metadata": {},
   "source": [
    "Die Hauptaufgabe von Instrumenten in pymeasure besteht darin sogennante Channels zu bündeln. <b>Die Channels entsprechen nicht zwingend den Ein- und Ausgängen eine Messinstrumentes sondern den physikalischen Größen die vom Gerät erfasst werden können</b>. So hat beispielsweise ein Voltmeter wenn es DC-Spannung, DC-Strom, AC-Spannung und AC-Strom misst vier verschiede Channels obwohl es nur einen einzigen Eingang besitzt. \n",
    "\n",
    "<b>Instrument können auch verschiedene Channels von verschiedenen anderen Instrumenten zusammenfassen</b>. Dieses ist daher ganz zentrales Feature von pymeasure und da es das Arbeiten mit vielen unterschiedlichen Messinstrumenten erheblich erleichtert. Dazu später aber mehr, hier soll zunächst der Umgang mit Instrumenten erklärt werden."
   ]
  },
  {
   "cell_type": "markdown",
   "metadata": {},
   "source": [
    "Um aber etwas messen zu mönnen, braucht man natürlich zunächst ein Messinstrument. Zum einfachen ausprobieren und prototyping liefert pymeasure das virtuelle <b>FooInstrument</b> mit."
   ]
  },
  {
   "cell_type": "code",
   "execution_count": 169,
   "metadata": {
    "collapsed": false
   },
   "outputs": [],
   "source": [
    "foo = pym.instruments.FooInstrument()"
   ]
  },
  {
   "cell_type": "markdown",
   "metadata": {},
   "source": [
    "Die Channels eines Instruments können 'durch Ausführen direkt angezeigt werden."
   ]
  },
  {
   "cell_type": "code",
   "execution_count": 172,
   "metadata": {
    "collapsed": false
   },
   "outputs": [
    {
     "data": {
      "text/plain": [
       "FooInstrument[0: 'random', 1: 'out0', 2: 'in0', 3: 'out1', 4: 'in1']"
      ]
     },
     "execution_count": 172,
     "metadata": {},
     "output_type": "execute_result"
    }
   ],
   "source": [
    "foo"
   ]
  },
  {
   "cell_type": "markdown",
   "metadata": {},
   "source": [
    "<b>Auf einen Channel kann entweder über den entrechenden Key oder zugehörigen Index zugegriffen werden</b>. Der Zugriff über den Index sollte lediglich für das schnelle Arbeiten auf der Konsole erfolgen. In richtigen Messprogrammen sollte ausnahmslos der Key benutzt werde. Die Index Reihenfolge kann sich ändern und jegliche Lesbarkeit ist damit hinüber. Sollte eines Tages die Tab Completion für Keywords gut funktionieren, wird der Index komplett abgeschafft."
   ]
  },
  {
   "cell_type": "markdown",
   "metadata": {},
   "source": [
    "Um den random Channel auszulesen genügt folgender Aufruf."
   ]
  },
  {
   "cell_type": "code",
   "execution_count": 171,
   "metadata": {
    "collapsed": false
   },
   "outputs": [
    {
     "data": {
      "text/plain": [
       "([0.08635947731914606], [-0.014860964671645105])"
      ]
     },
     "execution_count": 171,
     "metadata": {},
     "output_type": "execute_result"
    }
   ],
   "source": [
    "foo['random'](), foo[0]()"
   ]
  },
  {
   "cell_type": "markdown",
   "metadata": {},
   "source": [
    "Oder um einen Channel zu setzten und hinterher zu lesen:"
   ]
  },
  {
   "cell_type": "code",
   "execution_count": 162,
   "metadata": {
    "collapsed": false
   },
   "outputs": [
    {
     "data": {
      "text/plain": [
       "[-0.25]"
      ]
     },
     "execution_count": 162,
     "metadata": {},
     "output_type": "execute_result"
    }
   ],
   "source": [
    "foo['out0'](-0.25)\n",
    "foo['out0']()"
   ]
  },
  {
   "cell_type": "markdown",
   "metadata": {},
   "source": [
    "Auf alle Channel eines Gerätes lässt sich ganz einfach zugreifen, indem über das Messgerät interiert wird. "
   ]
  },
  {
   "cell_type": "code",
   "execution_count": 163,
   "metadata": {
    "collapsed": false,
    "scrolled": true
   },
   "outputs": [
    {
     "name": "stdout",
     "output_type": "stream",
     "text": [
      "[0.45154559151355755]\n",
      "[-0.25]\n",
      "[0]\n",
      "[0]\n",
      "[0]\n"
     ]
    }
   ],
   "source": [
    "for channel in foo:\n",
    "    print(channel())"
   ]
  },
  {
   "cell_type": "markdown",
   "metadata": {},
   "source": [
    "Fühle dich frei mit Tab weitere Funktionen von Intrumenten zu untersuchen."
   ]
  },
  {
   "cell_type": "code",
   "execution_count": null,
   "metadata": {
    "collapsed": false
   },
   "outputs": [],
   "source": [
    "foo.<Tab>"
   ]
  },
  {
   "cell_type": "markdown",
   "metadata": {},
   "source": [
    "## Channels"
   ]
  },
  {
   "cell_type": "markdown",
   "metadata": {},
   "source": [
    "Wir hatten gerade schon gesehen wie Channels gesetzt und gelsen werden können. <b>Jeder Channel besitzt meistens einige Properties die das Messergebniss beeinflussen</b>. So gibt es oft die Möglichkeit die Integrationszeit einzustellen, die Messrange anzuegben oder einen Rausch Filter einzuschalten."
   ]
  },
  {
   "cell_type": "markdown",
   "metadata": {},
   "source": [
    "Dieses soll an Hand des random Channels gezeigt werden. Channels sind unabhängig vom Messgerät und können Variabeln zugewiesen werden."
   ]
  },
  {
   "cell_type": "code",
   "execution_count": 243,
   "metadata": {
    "collapsed": true
   },
   "outputs": [],
   "source": [
    "random = foo['random']"
   ]
  },
  {
   "cell_type": "markdown",
   "metadata": {},
   "source": [
    "Standartmäßig gibt random einen Zufallswert zwischen 0 und 1 zurück. Um dieses Verhalten zu ändern können wir die Channel Eigenschaften maximum und minimum ändern."
   ]
  },
  {
   "cell_type": "code",
   "execution_count": 244,
   "metadata": {
    "collapsed": false
   },
   "outputs": [],
   "source": [
    "random.maximum = 20\n",
    "random.minimum = 10"
   ]
  },
  {
   "cell_type": "code",
   "execution_count": 249,
   "metadata": {
    "collapsed": false,
    "scrolled": true
   },
   "outputs": [
    {
     "data": {
      "text/plain": [
       "[13.917990112915339]"
      ]
     },
     "execution_count": 249,
     "metadata": {},
     "output_type": "execute_result"
    }
   ],
   "source": [
    "random()"
   ]
  },
  {
   "cell_type": "markdown",
   "metadata": {},
   "source": [
    "Vielleicht ist bereits aufgefallen, dass der Rückgabe Wert in eckigen Klammern steht. <b> Channels liefern also eine Python Liste zurück.</b> Das liegt daran, dass ein Channel auch mehr als nur einen Wert zurück liefern kann. Das kann zum Beispiel der Fall sein wenn gleich ein ganzes Spektrum gemessen wird. Oder noch wichtiger wenn ein Messgerät einzelne Messwerte intern zunächst buffert und dann als ganzes ausgibt.\n",
    "\n",
    "Für unseren random Channel können wir dies mit der sample Property beeinflussen."
   ]
  },
  {
   "cell_type": "code",
   "execution_count": 305,
   "metadata": {
    "collapsed": false
   },
   "outputs": [
    {
     "data": {
      "text/plain": [
       "[19.11649748098516,\n",
       " 18.406066084655187,\n",
       " 13.143146986095497,\n",
       " 11.452400806029305,\n",
       " 13.28143117372107]"
      ]
     },
     "execution_count": 305,
     "metadata": {},
     "output_type": "execute_result"
    }
   ],
   "source": [
    "random.samples = 5\n",
    "random()"
   ]
  },
  {
   "cell_type": "markdown",
   "metadata": {},
   "source": [
    "## help() and ?"
   ]
  },
  {
   "cell_type": "markdown",
   "metadata": {},
   "source": [
    "Bevor wir weiter machen wollen wir uns anschauen wie man schnell und einfach Hilfe bekommt. Manchmal weiß man nicht mehr was eine Property genau macht oder welche Argumente eine Funktion animmt. <b>Hilfe in IPython holt man sich am einfachsten mit dem ? Operator</b>."
   ]
  },
  {
   "cell_type": "code",
   "execution_count": 306,
   "metadata": {
    "collapsed": true
   },
   "outputs": [],
   "source": [
    "random = foo['random']\n",
    "random.samples?"
   ]
  },
  {
   "cell_type": "markdown",
   "metadata": {},
   "source": [
    "Am häufigsten wird man es wohl für die Properties gebrauchen. Aber auch für einen Channel oder ein ganzes Instrument können wir uns eine Hilfe gegeben lassen."
   ]
  },
  {
   "cell_type": "code",
   "execution_count": 307,
   "metadata": {
    "collapsed": true
   },
   "outputs": [],
   "source": [
    "random?"
   ]
  },
  {
   "cell_type": "code",
   "execution_count": 308,
   "metadata": {
    "collapsed": true
   },
   "outputs": [],
   "source": [
    "foo?"
   ]
  },
  {
   "cell_type": "markdown",
   "metadata": {},
   "source": [
    "IPythons ? funktionieren leider nicht dynamisch und kann leider keine Instrumente oder ähnliches auslösen. Hier liefert ? einen Fehler zurück. Das sollte man immer im Hinterkopf behalten."
   ]
  },
  {
   "cell_type": "code",
   "execution_count": 311,
   "metadata": {
    "collapsed": false
   },
   "outputs": [
    {
     "name": "stdout",
     "output_type": "stream",
     "text": [
      "Object `samples` not found.\n"
     ]
    }
   ],
   "source": [
    "foo['random'].samples?"
   ]
  },
  {
   "cell_type": "markdown",
   "metadata": {},
   "source": [
    "Daneben kann auch Pythons buildin Funktion help() benutzt werden, die im wesentlichen das gleiche macht aber auch außerhalb von IPython funktioniert. IPythons ? ist allerdings deutlich einfacher anzuwenden."
   ]
  },
  {
   "cell_type": "markdown",
   "metadata": {},
   "source": [
    "## Referenzen"
   ]
  }
 ],
 "metadata": {
  "kernelspec": {
   "display_name": "Python 3",
   "language": "python",
   "name": "python3"
  },
  "language_info": {
   "codemirror_mode": {
    "name": "ipython",
    "version": 3
   },
   "file_extension": ".py",
   "mimetype": "text/x-python",
   "name": "python",
   "nbconvert_exporter": "python",
   "pygments_lexer": "ipython3",
   "version": "3.4.2"
  }
 },
 "nbformat": 4,
 "nbformat_minor": 0
}
