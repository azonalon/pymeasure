{
 "metadata": {
  "name": "",
  "signature": "sha256:534b592c1488f28a961396336898fd04dd15ae44cad661db59638cf1b7f15a98"
 },
 "nbformat": 3,
 "nbformat_minor": 0,
 "worksheets": [
  {
   "cells": [
    {
     "cell_type": "code",
     "collapsed": false,
     "input": [
      "%matplotlib\n",
      "%config IPCompleter.greedy = True\n",
      "from  threading import Thread\n",
      "import numpy as np\n",
      "from matplotlib import pyplot as plt\n",
      "import time\n",
      "\n",
      "%load_ext autoreload\n",
      "%autoreload 2\n",
      "\n",
      "from pymeasure import pym"
     ],
     "language": "python",
     "metadata": {},
     "outputs": [
      {
       "output_type": "stream",
       "stream": "stdout",
       "text": [
        "Using matplotlib backend: TkAgg\n"
       ]
      }
     ],
     "prompt_number": 1
    },
    {
     "cell_type": "code",
     "collapsed": false,
     "input": [
      "%pymeasure\n",
      "\n",
      "graph = pym.LiveGraphTk()\n",
      "graph['sin']   = pym.Dataplot1d(graph, 221, 101)\n",
      "graph['sin2d'] = pym.Dataplot2d(graph, 222, 101)\n",
      "graph['cos']   = pym.Dataplot1d(graph, 223, 101)\n",
      "graph['cos2d'] = pym.Dataplot2d(graph, 224, 101)\n",
      "graph.run()\n",
      "\n",
      "class Measurment(pym.Measurment):\n",
      "    \n",
      "    def __init__(self):\n",
      "        pym.Measurment.__init__(self)        \n",
      "        self.stop = False\n",
      "\n",
      "    \n",
      "    def _run(self):\n",
      "        \n",
      "        for y in range(101):\n",
      "            for x in range(101):\n",
      "                graph['sin'].add_data([x], [np.sin(x)*1e5])\n",
      "                graph['sin2d'].add_data([np.sin(x)*1e5])\n",
      "                time.sleep(0.05)\n",
      "                \n",
      "                if self.stop:\n",
      "                    return\n",
      "            \n",
      "        return graph._figure\n",
      "            \n",
      "m = Measurment()"
     ],
     "language": "python",
     "metadata": {},
     "outputs": [
      {
       "output_type": "stream",
       "stream": "stderr",
       "text": [
        "ERROR: Line magic function `%pymeasure` not found.\n",
        "/usr/lib64/python2.7/site-packages/matplotlib/colors.py:576: RuntimeWarning: invalid value encountered in less\n",
        "  cbook._putmask(xa, xa < 0.0, -1)\n"
       ]
      }
     ],
     "prompt_number": 2
    },
    {
     "cell_type": "code",
     "collapsed": false,
     "input": [
      "graph['sin2d'].colorbar.log_minimum"
     ],
     "language": "python",
     "metadata": {},
     "outputs": [
      {
       "metadata": {},
       "output_type": "pyout",
       "prompt_number": 15,
       "text": [
        "True"
       ]
      }
     ],
     "prompt_number": 15
    },
    {
     "cell_type": "code",
     "collapsed": false,
     "input": [
      "a = graph['sin2d']._image.set_cmap"
     ],
     "language": "python",
     "metadata": {},
     "outputs": [],
     "prompt_number": 12
    },
    {
     "cell_type": "code",
     "collapsed": false,
     "input": [
      "import matplotlib as mpl"
     ],
     "language": "python",
     "metadata": {},
     "outputs": [],
     "prompt_number": 19
    },
    {
     "cell_type": "code",
     "collapsed": false,
     "input": [
      "sorted(mpl.cm.cmap_d.keys())\n"
     ],
     "language": "python",
     "metadata": {},
     "outputs": [],
     "prompt_number": 32
    },
    {
     "cell_type": "code",
     "collapsed": false,
     "input": [
      "matplotlib.col"
     ],
     "language": "python",
     "metadata": {},
     "outputs": [
      {
       "output_type": "stream",
       "stream": "stderr",
       "text": [
        "Exception in Tkinter callback\n",
        "Traceback (most recent call last):\n",
        "  File \"/usr/lib64/python2.7/lib-tk/Tkinter.py\", line 1470, in __call__\n",
        "    return self.func(*args)\n",
        "  File \"/usr/lib64/python2.7/lib-tk/Tkinter.py\", line 531, in callit\n",
        "    func(*args)\n",
        "  File \"pymeasure/liveplot.py\", line 211, in run\n",
        "    self._update()\n",
        "  File \"pymeasure/liveplot.py\", line 140, in _update\n",
        "    func(*args, **kargs)\n",
        "  File \"/usr/lib64/python2.7/site-packages/matplotlib/cm.py\", line 305, in set_cmap\n",
        "    cmap = get_cmap(cmap)\n",
        "  File \"/usr/lib64/python2.7/site-packages/matplotlib/cm.py\", line 161, in get_cmap\n",
        "    raise ValueError(\"Colormap %s is not recognized\" % name)\n",
        "ValueError: Colormap hotfdgr is not recognized\n"
       ]
      }
     ],
     "prompt_number": 7
    }
   ],
   "metadata": {}
  }
 ]
}